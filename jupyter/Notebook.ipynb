{
 "cells": [
  {
   "cell_type": "code",
   "id": "c60fffd9817324c7",
   "metadata": {},
   "source": [
    "import pandas as pd\n",
    "import plotly.express as px"
   ],
   "outputs": [],
   "execution_count": null
  },
  {
   "metadata": {},
   "cell_type": "code",
   "source": [
    "# Create a sample DataFrame\n",
    "data = {\n",
    "    'City': ['New York', 'Los Angeles', 'Chicago', 'Houston', 'Phoenix'],\n",
    "    'Population (millions)': [8.62, 3.99, 2.71, 2.30, 1.70],\n",
    "    'Area (sq. miles)': [468.9, 502.7, 227.3, 637.5, 517.6]\n",
    "}\n",
    "df = pd.DataFrame(data)"
   ],
   "id": "3bafdd4db39aa020",
   "outputs": [],
   "execution_count": null
  },
  {
   "metadata": {},
   "cell_type": "code",
   "source": [
    "# Create bar chart using Plotly Express\n",
    "fig = px.bar(\n",
    "    df, x='City', y='Population (millions)',\n",
    "    title='Population of Major US Cities',\n",
    "    labels={'Population (millions)': 'Population (millions)', 'City': 'City'}\n",
    ")\n",
    "\n",
    "# Update layout\n",
    "fig.update_layout(\n",
    "    xaxis_title=\"City\",\n",
    "    yaxis_title=\"Population (millions)\",\n",
    ")\n",
    "\n",
    "# Show the plot\n",
    "fig.show()\n",
    "\n",
    "# Create scatter plot using Plotly Express\n",
    "fig = px.scatter(\n",
    "    df, x='City', y='Area (sq. miles)',\n",
    "    title='Area of Major US Cities',\n",
    "    labels={'Area (sq. miles)': 'Area (sq. miles)', 'City': 'City'}\n",
    ")\n",
    "\n",
    "# Update layout\n",
    "fig.update_layout(\n",
    "    xaxis_title=\"City\",\n",
    "    yaxis_title=\"Area (sq. miles)\",\n",
    ")\n",
    "\n",
    "# Show the plot\n",
    "fig.show()"
   ],
   "id": "30a6554ab07ccf3f",
   "outputs": [],
   "execution_count": null
  }
 ],
 "metadata": {
  "kernelspec": {
   "display_name": "Python 3 (ipykernel)",
   "language": "python",
   "name": "python3"
  },
  "language_info": {
   "codemirror_mode": {
    "name": "ipython",
    "version": 3
   },
   "file_extension": ".py",
   "mimetype": "text/x-python",
   "name": "python",
   "nbconvert_exporter": "python",
   "pygments_lexer": "ipython3",
   "version": "3.11.9"
  }
 },
 "nbformat": 4,
 "nbformat_minor": 5
}
